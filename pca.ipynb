def normalize(X):
    N, D = X.shape
    mu = np.mean(X, axis=0)
    Xbar = X - mu
    return Xbar, mu

def eig(S):
    eigvals, eigvecs = np.linalg.eig(S)
    sort_indices = np.argsort(eigvals)[::-1]
    return eigvals[sort_indices], eigvecs[:, sort_indices]

def projection_matrix(B):
    return B @ np.linalg.inv(B.T @ B) @ B.T

def PCA(X, num_components):
    X_normalized, mean = normalize(X)
    S = np.cov(X_normalized.T)
    eig_vals, eig_vecs = eig(S)
    principal_vals, principal_components = eig_vals[0:num_components], eig_vecs[:, 0:num_components]
    P = projection_matrix(principal_components)
    reconst = (P @ X_normalized.T).T + mean
    return reconst, mean, principal_vals, principal_components

def PCA_high_dim(X, num_components):
    N, D = X.shape
    X_normalized, mean = normalize(X)
    M = np.dot(X_normalized, X_normalized.T) / N
    S = np.cov(X_normalized.T)
    eig_vals, eig_vecs = eig(S)
    eig_vals = eig_vals[0:D]
    eig_vecs = eig_vecs[:, 0:D]
    principal_values, principal_components = eig_vals[0:num_components], eig_vecs[:, 0:num_components]
    P = projection_matrix(principal_components)
    reconst = (P @ X_normalized.T).T + mean
    return reconst, mean, principal_values, principal_components